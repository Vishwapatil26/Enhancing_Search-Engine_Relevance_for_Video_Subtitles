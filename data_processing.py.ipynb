{
 "cells": [
  {
   "cell_type": "code",
   "execution_count": 3,
   "id": "df05fd54",
   "metadata": {},
   "outputs": [],
   "source": [
    "import pandas as pd\n",
    "import sqlite3\n",
    "import zipfile\n",
    "import io"
   ]
  },
  {
   "cell_type": "code",
   "execution_count": 4,
   "id": "d07c8b98",
   "metadata": {},
   "outputs": [
    {
     "name": "stdout",
     "output_type": "stream",
     "text": [
      "<sqlite3.Cursor object at 0x000001A25D279DC0>\n",
      "[('zipfiles',)]\n"
     ]
    }
   ],
   "source": [
    "conn = sqlite3.connect(r\"C:\\Users\\vishp\\Downloads\\eng_subtitles_database.db\")\n",
    "cursor = conn.cursor()\n",
    "print(cursor)\n",
    "cursor.execute(\"SELECT name FROM sqlite_master WHERE type='table'\")\n",
    "print(cursor.fetchall())"
   ]
  },
  {
   "cell_type": "code",
   "execution_count": 5,
   "id": "48ec2a00",
   "metadata": {},
   "outputs": [
    {
     "data": {
      "text/html": [
       "<div>\n",
       "<style scoped>\n",
       "    .dataframe tbody tr th:only-of-type {\n",
       "        vertical-align: middle;\n",
       "    }\n",
       "\n",
       "    .dataframe tbody tr th {\n",
       "        vertical-align: top;\n",
       "    }\n",
       "\n",
       "    .dataframe thead th {\n",
       "        text-align: right;\n",
       "    }\n",
       "</style>\n",
       "<table border=\"1\" class=\"dataframe\">\n",
       "  <thead>\n",
       "    <tr style=\"text-align: right;\">\n",
       "      <th></th>\n",
       "      <th>num</th>\n",
       "      <th>name</th>\n",
       "      <th>content</th>\n",
       "    </tr>\n",
       "  </thead>\n",
       "  <tbody>\n",
       "    <tr>\n",
       "      <th>0</th>\n",
       "      <td>9180533</td>\n",
       "      <td>the.message.(1976).eng.1cd</td>\n",
       "      <td>b'PK\\x03\\x04\\x14\\x00\\x00\\x00\\x08\\x00\\x1c\\xa9\\x...</td>\n",
       "    </tr>\n",
       "    <tr>\n",
       "      <th>1</th>\n",
       "      <td>9180583</td>\n",
       "      <td>here.comes.the.grump.s01.e09.joltin.jack.in.bo...</td>\n",
       "      <td>b'PK\\x03\\x04\\x14\\x00\\x00\\x00\\x08\\x00\\x17\\xb9\\x...</td>\n",
       "    </tr>\n",
       "    <tr>\n",
       "      <th>2</th>\n",
       "      <td>9180592</td>\n",
       "      <td>yumis.cells.s02.e13.episode.2.13.(2022).eng.1cd</td>\n",
       "      <td>b'PK\\x03\\x04\\x14\\x00\\x00\\x00\\x08\\x00L\\xb9\\x99V...</td>\n",
       "    </tr>\n",
       "    <tr>\n",
       "      <th>3</th>\n",
       "      <td>9180594</td>\n",
       "      <td>yumis.cells.s02.e14.episode.2.14.(2022).eng.1cd</td>\n",
       "      <td>b'PK\\x03\\x04\\x14\\x00\\x00\\x00\\x08\\x00U\\xa9\\x99V...</td>\n",
       "    </tr>\n",
       "    <tr>\n",
       "      <th>4</th>\n",
       "      <td>9180600</td>\n",
       "      <td>broker.(2022).eng.1cd</td>\n",
       "      <td>b'PK\\x03\\x04\\x14\\x00\\x00\\x00\\x08\\x001\\xa9\\x99V...</td>\n",
       "    </tr>\n",
       "  </tbody>\n",
       "</table>\n",
       "</div>"
      ],
      "text/plain": [
       "       num                                               name  \\\n",
       "0  9180533                         the.message.(1976).eng.1cd   \n",
       "1  9180583  here.comes.the.grump.s01.e09.joltin.jack.in.bo...   \n",
       "2  9180592    yumis.cells.s02.e13.episode.2.13.(2022).eng.1cd   \n",
       "3  9180594    yumis.cells.s02.e14.episode.2.14.(2022).eng.1cd   \n",
       "4  9180600                              broker.(2022).eng.1cd   \n",
       "\n",
       "                                             content  \n",
       "0  b'PK\\x03\\x04\\x14\\x00\\x00\\x00\\x08\\x00\\x1c\\xa9\\x...  \n",
       "1  b'PK\\x03\\x04\\x14\\x00\\x00\\x00\\x08\\x00\\x17\\xb9\\x...  \n",
       "2  b'PK\\x03\\x04\\x14\\x00\\x00\\x00\\x08\\x00L\\xb9\\x99V...  \n",
       "3  b'PK\\x03\\x04\\x14\\x00\\x00\\x00\\x08\\x00U\\xa9\\x99V...  \n",
       "4  b'PK\\x03\\x04\\x14\\x00\\x00\\x00\\x08\\x001\\xa9\\x99V...  "
      ]
     },
     "execution_count": 5,
     "metadata": {},
     "output_type": "execute_result"
    }
   ],
   "source": [
    "df = pd.read_sql_query(\"\"\"SELECT * FROM zipfiles\"\"\", conn)\n",
    "df.head()"
   ]
  },
  {
   "cell_type": "code",
   "execution_count": 6,
   "id": "e08b19ef",
   "metadata": {
    "scrolled": true
   },
   "outputs": [
    {
     "data": {
      "text/html": [
       "<div>\n",
       "<style scoped>\n",
       "    .dataframe tbody tr th:only-of-type {\n",
       "        vertical-align: middle;\n",
       "    }\n",
       "\n",
       "    .dataframe tbody tr th {\n",
       "        vertical-align: top;\n",
       "    }\n",
       "\n",
       "    .dataframe thead th {\n",
       "        text-align: right;\n",
       "    }\n",
       "</style>\n",
       "<table border=\"1\" class=\"dataframe\">\n",
       "  <thead>\n",
       "    <tr style=\"text-align: right;\">\n",
       "      <th></th>\n",
       "      <th>num</th>\n",
       "      <th>name</th>\n",
       "      <th>content</th>\n",
       "    </tr>\n",
       "  </thead>\n",
       "  <tbody>\n",
       "    <tr>\n",
       "      <th>0</th>\n",
       "      <td>9180533</td>\n",
       "      <td>the.message.(1976).eng.1cd</td>\n",
       "      <td>b'PK\\x03\\x04\\x14\\x00\\x00\\x00\\x08\\x00\\x1c\\xa9\\x...</td>\n",
       "    </tr>\n",
       "    <tr>\n",
       "      <th>1</th>\n",
       "      <td>9180583</td>\n",
       "      <td>here.comes.the.grump.s01.e09.joltin.jack.in.bo...</td>\n",
       "      <td>b'PK\\x03\\x04\\x14\\x00\\x00\\x00\\x08\\x00\\x17\\xb9\\x...</td>\n",
       "    </tr>\n",
       "    <tr>\n",
       "      <th>2</th>\n",
       "      <td>9180592</td>\n",
       "      <td>yumis.cells.s02.e13.episode.2.13.(2022).eng.1cd</td>\n",
       "      <td>b'PK\\x03\\x04\\x14\\x00\\x00\\x00\\x08\\x00L\\xb9\\x99V...</td>\n",
       "    </tr>\n",
       "    <tr>\n",
       "      <th>3</th>\n",
       "      <td>9180594</td>\n",
       "      <td>yumis.cells.s02.e14.episode.2.14.(2022).eng.1cd</td>\n",
       "      <td>b'PK\\x03\\x04\\x14\\x00\\x00\\x00\\x08\\x00U\\xa9\\x99V...</td>\n",
       "    </tr>\n",
       "    <tr>\n",
       "      <th>4</th>\n",
       "      <td>9180600</td>\n",
       "      <td>broker.(2022).eng.1cd</td>\n",
       "      <td>b'PK\\x03\\x04\\x14\\x00\\x00\\x00\\x08\\x001\\xa9\\x99V...</td>\n",
       "    </tr>\n",
       "  </tbody>\n",
       "</table>\n",
       "</div>"
      ],
      "text/plain": [
       "       num                                               name  \\\n",
       "0  9180533                         the.message.(1976).eng.1cd   \n",
       "1  9180583  here.comes.the.grump.s01.e09.joltin.jack.in.bo...   \n",
       "2  9180592    yumis.cells.s02.e13.episode.2.13.(2022).eng.1cd   \n",
       "3  9180594    yumis.cells.s02.e14.episode.2.14.(2022).eng.1cd   \n",
       "4  9180600                              broker.(2022).eng.1cd   \n",
       "\n",
       "                                             content  \n",
       "0  b'PK\\x03\\x04\\x14\\x00\\x00\\x00\\x08\\x00\\x1c\\xa9\\x...  \n",
       "1  b'PK\\x03\\x04\\x14\\x00\\x00\\x00\\x08\\x00\\x17\\xb9\\x...  \n",
       "2  b'PK\\x03\\x04\\x14\\x00\\x00\\x00\\x08\\x00L\\xb9\\x99V...  \n",
       "3  b'PK\\x03\\x04\\x14\\x00\\x00\\x00\\x08\\x00U\\xa9\\x99V...  \n",
       "4  b'PK\\x03\\x04\\x14\\x00\\x00\\x00\\x08\\x001\\xa9\\x99V...  "
      ]
     },
     "execution_count": 6,
     "metadata": {},
     "output_type": "execute_result"
    }
   ],
   "source": [
    "df.head()"
   ]
  },
  {
   "cell_type": "code",
   "execution_count": 7,
   "id": "831366bb",
   "metadata": {},
   "outputs": [],
   "source": [
    "from tqdm import tqdm, tqdm_notebook\n",
    "tqdm.pandas()"
   ]
  },
  {
   "cell_type": "code",
   "execution_count": 8,
   "id": "a6732013",
   "metadata": {
    "scrolled": true
   },
   "outputs": [
    {
     "data": {
      "text/plain": [
       "0        b'PK\\x03\\x04\\x14\\x00\\x00\\x00\\x08\\x00\\x1c\\xa9\\x...\n",
       "1        b'PK\\x03\\x04\\x14\\x00\\x00\\x00\\x08\\x00\\x17\\xb9\\x...\n",
       "2        b'PK\\x03\\x04\\x14\\x00\\x00\\x00\\x08\\x00L\\xb9\\x99V...\n",
       "3        b'PK\\x03\\x04\\x14\\x00\\x00\\x00\\x08\\x00U\\xa9\\x99V...\n",
       "4        b'PK\\x03\\x04\\x14\\x00\\x00\\x00\\x08\\x001\\xa9\\x99V...\n",
       "                               ...                        \n",
       "82493    b'PK\\x03\\x04\\x14\\x00\\x00\\x00\\x08\\x00\\xb8\\xa6\\x...\n",
       "82494    b'PK\\x03\\x04\\x14\\x00\\x00\\x00\\x08\\x00\\x13\\x97\\x...\n",
       "82495    b'PK\\x03\\x04\\x14\\x00\\x00\\x00\\x08\\x00$\\x97\\x9aV...\n",
       "82496    b'PK\\x03\\x04\\x14\\x00\\x00\\x00\\x08\\x00\\x00\\x97\\x...\n",
       "82497    b'PK\\x03\\x04\\x14\\x00\\x00\\x00\\x08\\x00,\\x97\\x9aV...\n",
       "Name: content, Length: 82498, dtype: object"
      ]
     },
     "execution_count": 8,
     "metadata": {},
     "output_type": "execute_result"
    }
   ],
   "source": [
    "df['content']"
   ]
  },
  {
   "cell_type": "code",
   "execution_count": 9,
   "id": "4c6689dc",
   "metadata": {},
   "outputs": [
    {
     "name": "stderr",
     "output_type": "stream",
     "text": [
      "100%|██████████| 82498/82498 [00:46<00:00, 1765.75it/s]\n"
     ]
    }
   ],
   "source": [
    "def decode(data):\n",
    "    with zipfile.ZipFile(io.BytesIO(data)) as zip_file:\n",
    "        list = zip_file.namelist()[0]\n",
    "        extract_zip = zip_file.read(list)\n",
    "    return extract_zip.decode('latin-1')\n",
    "\n",
    "df['content'] = df['content'].progress_apply(lambda x: decode(x))"
   ]
  },
  {
   "cell_type": "code",
   "execution_count": 10,
   "id": "681008e6",
   "metadata": {
    "scrolled": false
   },
   "outputs": [
    {
     "name": "stdout",
     "output_type": "stream",
     "text": [
      "<class 'pandas.core.frame.DataFrame'>\n",
      "RangeIndex: 82498 entries, 0 to 82497\n",
      "Data columns (total 3 columns):\n",
      " #   Column   Non-Null Count  Dtype \n",
      "---  ------   --------------  ----- \n",
      " 0   num      82498 non-null  int64 \n",
      " 1   name     82498 non-null  object\n",
      " 2   content  82498 non-null  object\n",
      "dtypes: int64(1), object(2)\n",
      "memory usage: 1.9+ MB\n"
     ]
    }
   ],
   "source": [
    "df.info()"
   ]
  },
  {
   "cell_type": "code",
   "execution_count": 11,
   "id": "f926efaa",
   "metadata": {},
   "outputs": [
    {
     "data": {
      "text/plain": [
       "(82498, 3)"
      ]
     },
     "execution_count": 11,
     "metadata": {},
     "output_type": "execute_result"
    }
   ],
   "source": [
    "df.shape"
   ]
  },
  {
   "cell_type": "code",
   "execution_count": 12,
   "id": "91b7d34e",
   "metadata": {
    "scrolled": true
   },
   "outputs": [
    {
     "data": {
      "text/plain": [
       "247494"
      ]
     },
     "execution_count": 12,
     "metadata": {},
     "output_type": "execute_result"
    }
   ],
   "source": [
    "df.size"
   ]
  },
  {
   "cell_type": "code",
   "execution_count": 13,
   "id": "6f0a6e5e",
   "metadata": {
    "scrolled": true
   },
   "outputs": [
    {
     "data": {
      "text/plain": [
       "num        0\n",
       "name       0\n",
       "content    0\n",
       "dtype: int64"
      ]
     },
     "execution_count": 13,
     "metadata": {},
     "output_type": "execute_result"
    }
   ],
   "source": [
    "df.isnull().sum()"
   ]
  },
  {
   "cell_type": "code",
   "execution_count": 14,
   "id": "ee2ea86c",
   "metadata": {
    "scrolled": true
   },
   "outputs": [
    {
     "data": {
      "text/html": [
       "<div>\n",
       "<style scoped>\n",
       "    .dataframe tbody tr th:only-of-type {\n",
       "        vertical-align: middle;\n",
       "    }\n",
       "\n",
       "    .dataframe tbody tr th {\n",
       "        vertical-align: top;\n",
       "    }\n",
       "\n",
       "    .dataframe thead th {\n",
       "        text-align: right;\n",
       "    }\n",
       "</style>\n",
       "<table border=\"1\" class=\"dataframe\">\n",
       "  <thead>\n",
       "    <tr style=\"text-align: right;\">\n",
       "      <th></th>\n",
       "      <th>num</th>\n",
       "    </tr>\n",
       "  </thead>\n",
       "  <tbody>\n",
       "    <tr>\n",
       "      <th>count</th>\n",
       "      <td>8.249800e+04</td>\n",
       "    </tr>\n",
       "    <tr>\n",
       "      <th>mean</th>\n",
       "      <td>9.351228e+06</td>\n",
       "    </tr>\n",
       "    <tr>\n",
       "      <th>std</th>\n",
       "      <td>9.882055e+04</td>\n",
       "    </tr>\n",
       "    <tr>\n",
       "      <th>min</th>\n",
       "      <td>9.180533e+06</td>\n",
       "    </tr>\n",
       "    <tr>\n",
       "      <th>25%</th>\n",
       "      <td>9.264094e+06</td>\n",
       "    </tr>\n",
       "    <tr>\n",
       "      <th>50%</th>\n",
       "      <td>9.349568e+06</td>\n",
       "    </tr>\n",
       "    <tr>\n",
       "      <th>75%</th>\n",
       "      <td>9.437720e+06</td>\n",
       "    </tr>\n",
       "    <tr>\n",
       "      <th>max</th>\n",
       "      <td>9.521941e+06</td>\n",
       "    </tr>\n",
       "  </tbody>\n",
       "</table>\n",
       "</div>"
      ],
      "text/plain": [
       "                num\n",
       "count  8.249800e+04\n",
       "mean   9.351228e+06\n",
       "std    9.882055e+04\n",
       "min    9.180533e+06\n",
       "25%    9.264094e+06\n",
       "50%    9.349568e+06\n",
       "75%    9.437720e+06\n",
       "max    9.521941e+06"
      ]
     },
     "execution_count": 14,
     "metadata": {},
     "output_type": "execute_result"
    }
   ],
   "source": [
    "df.describe()"
   ]
  },
  {
   "cell_type": "code",
   "execution_count": 15,
   "id": "95f730a8",
   "metadata": {},
   "outputs": [],
   "source": [
    "df = df.sample(frac=0.3, random_state=42)"
   ]
  },
  {
   "cell_type": "code",
   "execution_count": 16,
   "id": "bedd304c",
   "metadata": {},
   "outputs": [],
   "source": [
    "import re"
   ]
  },
  {
   "cell_type": "code",
   "execution_count": 17,
   "id": "886aa848",
   "metadata": {
    "scrolled": true
   },
   "outputs": [
    {
     "data": {
      "text/plain": [
       "17262    ï»¿1\\r\\n00:00:06,000 --> 00:00:12,074\\r\\nWatch...\n",
       "7294     1\\r\\n00:00:09,275 --> 00:00:11,876\\r\\n¶ Oh, I ...\n",
       "47707    1\\r\\n00:00:07,140 --> 00:00:14,220\\r\\n<i>Timin...\n",
       "29914    1\\r\\n00:00:06,133 --> 00:00:08,900\\r\\n[etherea...\n",
       "54266    ï»¿1\\r\\n00:00:01,480 --> 00:00:03,570\\r\\n[Chri...\n",
       "                               ...                        \n",
       "67460    ï»¿[Script Info]\\r\\nTitle: Default file\\r\\nScr...\n",
       "15296    ï»¿1\\r\\n00:00:03,440 --> 00:00:06,160\\r\\n-Wher...\n",
       "40242    ï»¿1\\r\\n00:00:01,101 --> 00:00:02,865\\r\\n<i>Pr...\n",
       "56391    ï»¿1\\r\\n00:00:01,768 --> 00:00:03,168\\r\\n<i>- ...\n",
       "67859    ï»¿1\\r\\n00:00:06,000 --> 00:00:12,074\\r\\napi.O...\n",
       "Name: content, Length: 24749, dtype: object"
      ]
     },
     "execution_count": 17,
     "metadata": {},
     "output_type": "execute_result"
    }
   ],
   "source": [
    "df['content']"
   ]
  },
  {
   "cell_type": "code",
   "execution_count": 18,
   "id": "8e42c3b8",
   "metadata": {
    "scrolled": false
   },
   "outputs": [
    {
     "data": {
      "text/plain": [
       "17262    ï»¿1\\r\\n00:00:06,000 --> 00:00:12,074\\r\\nWatch...\n",
       "7294     1\\r\\n00:00:09,275 --> 00:00:11,876\\r\\n¶ Oh, I ...\n",
       "47707    1\\r\\n00:00:07,140 --> 00:00:14,220\\r\\n<i>Timin...\n",
       "29914    1\\r\\n00:00:06,133 --> 00:00:08,900\\r\\n[etherea...\n",
       "54266    ï»¿1\\r\\n00:00:01,480 --> 00:00:03,570\\r\\n[Chri...\n",
       "                               ...                        \n",
       "67460    ï»¿[Script Info]\\r\\nTitle: Default file\\r\\nScr...\n",
       "15296    ï»¿1\\r\\n00:00:03,440 --> 00:00:06,160\\r\\n-Wher...\n",
       "40242    ï»¿1\\r\\n00:00:01,101 --> 00:00:02,865\\r\\n<i>Pr...\n",
       "56391    ï»¿1\\r\\n00:00:01,768 --> 00:00:03,168\\r\\n<i>- ...\n",
       "67859    ï»¿1\\r\\n00:00:06,000 --> 00:00:12,074\\r\\napi.O...\n",
       "Name: content, Length: 24749, dtype: object"
      ]
     },
     "execution_count": 18,
     "metadata": {},
     "output_type": "execute_result"
    }
   ],
   "source": [
    "df['content']"
   ]
  },
  {
   "cell_type": "code",
   "execution_count": 19,
   "id": "409191b7",
   "metadata": {},
   "outputs": [],
   "source": [
    "import nltk\n",
    "import string"
   ]
  },
  {
   "cell_type": "code",
   "execution_count": 20,
   "id": "077a2ce8",
   "metadata": {
    "scrolled": true
   },
   "outputs": [
    {
     "name": "stderr",
     "output_type": "stream",
     "text": [
      "[nltk_data] Downloading package stopwords to\n",
      "[nltk_data]     C:\\Users\\vishp\\AppData\\Roaming\\nltk_data...\n",
      "[nltk_data]   Package stopwords is already up-to-date!\n"
     ]
    },
    {
     "data": {
      "text/plain": [
       "True"
      ]
     },
     "execution_count": 20,
     "metadata": {},
     "output_type": "execute_result"
    }
   ],
   "source": [
    "nltk.download('stopwords')"
   ]
  },
  {
   "cell_type": "code",
   "execution_count": 21,
   "id": "657bde5a",
   "metadata": {},
   "outputs": [
    {
     "name": "stderr",
     "output_type": "stream",
     "text": [
      "100%|██████████| 24749/24749 [04:54<00:00, 84.18it/s] \n"
     ]
    }
   ],
   "source": [
    "def clean_data(doc):\n",
    "    doc = re.sub(r\"\\r\\n\",'',doc)\n",
    "    doc = re.sub(r\"-->\",\"\",doc)\n",
    "    doc = re.sub(\"[<>]\",\"\",doc)\n",
    "    doc = re.sub('^.*?¶\\s*|ï»¿\\s*|¶|âª', '', doc)\n",
    "\n",
    "    doc = \"\".join([char for char in doc if char not in string.punctuation and not char.isdigit()])\n",
    "    doc = doc.lower()\n",
    "    doc = doc.strip()\n",
    "    \n",
    "    return doc\n",
    "\n",
    "df['content'] = df['content'].progress_apply(clean_data)\n",
    "    "
   ]
  },
  {
   "cell_type": "code",
   "execution_count": 22,
   "id": "c4ebafb1",
   "metadata": {
    "scrolled": true
   },
   "outputs": [
    {
     "data": {
      "text/html": [
       "<div>\n",
       "<style scoped>\n",
       "    .dataframe tbody tr th:only-of-type {\n",
       "        vertical-align: middle;\n",
       "    }\n",
       "\n",
       "    .dataframe tbody tr th {\n",
       "        vertical-align: top;\n",
       "    }\n",
       "\n",
       "    .dataframe thead th {\n",
       "        text-align: right;\n",
       "    }\n",
       "</style>\n",
       "<table border=\"1\" class=\"dataframe\">\n",
       "  <thead>\n",
       "    <tr style=\"text-align: right;\">\n",
       "      <th></th>\n",
       "      <th>num</th>\n",
       "      <th>name</th>\n",
       "      <th>content</th>\n",
       "    </tr>\n",
       "  </thead>\n",
       "  <tbody>\n",
       "    <tr>\n",
       "      <th>17262</th>\n",
       "      <td>9251120</td>\n",
       "      <td>maybe.this.time.(2014).eng.1cd</td>\n",
       "      <td>watch any video online with opensubtitlesfree ...</td>\n",
       "    </tr>\n",
       "    <tr>\n",
       "      <th>7294</th>\n",
       "      <td>9211589</td>\n",
       "      <td>down.the.shore.s01.e10.and.justice.for.all.(19...</td>\n",
       "      <td>oh i know that its getting late    but i dont ...</td>\n",
       "    </tr>\n",
       "    <tr>\n",
       "      <th>47707</th>\n",
       "      <td>9380845</td>\n",
       "      <td>uncontrollably.fond.s01.e07.heartache.(2016).e...</td>\n",
       "      <td>itiming and subtitles by the uncontrollable lo...</td>\n",
       "    </tr>\n",
       "    <tr>\n",
       "      <th>29914</th>\n",
       "      <td>9301436</td>\n",
       "      <td>screen.two.s13.e04.the.precious.blood.(1996).e...</td>\n",
       "      <td>ethereal music  apiopensubtitlesorg is depreca...</td>\n",
       "    </tr>\n",
       "    <tr>\n",
       "      <th>54266</th>\n",
       "      <td>9408707</td>\n",
       "      <td>battlebots.(2015).eng.1cd</td>\n",
       "      <td>chris oh nonot the minibots  yelling oh you le...</td>\n",
       "    </tr>\n",
       "    <tr>\n",
       "      <th>...</th>\n",
       "      <td>...</td>\n",
       "      <td>...</td>\n",
       "      <td>...</td>\n",
       "    </tr>\n",
       "    <tr>\n",
       "      <th>67460</th>\n",
       "      <td>9458807</td>\n",
       "      <td>kevin.can.wait.s01.e13.ring.worm.(2017).eng.1cd</td>\n",
       "      <td>script infotitle default filescripttype vwraps...</td>\n",
       "    </tr>\n",
       "    <tr>\n",
       "      <th>15296</th>\n",
       "      <td>9244890</td>\n",
       "      <td>bia.s01.e29.episode.1.29.(2019).eng.1cd</td>\n",
       "      <td>where did that come fromi dont know  its a tap...</td>\n",
       "    </tr>\n",
       "    <tr>\n",
       "      <th>40242</th>\n",
       "      <td>9345965</td>\n",
       "      <td>heroes.s02.e11.chapter.eleven.powerless.(2007)...</td>\n",
       "      <td>ipreviously oni heroes  tell me where i can fi...</td>\n",
       "    </tr>\n",
       "    <tr>\n",
       "      <th>56391</th>\n",
       "      <td>9417351</td>\n",
       "      <td>hot.in.cleveland.s05.e09.bad.george.clooney.(2...</td>\n",
       "      <td>i hot in clevelandi is recorded  in frontof a ...</td>\n",
       "    </tr>\n",
       "    <tr>\n",
       "      <th>67859</th>\n",
       "      <td>9460606</td>\n",
       "      <td>silk.stalkings.s04.e18.i.know.what.scares.you....</td>\n",
       "      <td>apiopensubtitlesorg is deprecated pleaseimplem...</td>\n",
       "    </tr>\n",
       "  </tbody>\n",
       "</table>\n",
       "<p>24749 rows × 3 columns</p>\n",
       "</div>"
      ],
      "text/plain": [
       "           num                                               name  \\\n",
       "17262  9251120                     maybe.this.time.(2014).eng.1cd   \n",
       "7294   9211589  down.the.shore.s01.e10.and.justice.for.all.(19...   \n",
       "47707  9380845  uncontrollably.fond.s01.e07.heartache.(2016).e...   \n",
       "29914  9301436  screen.two.s13.e04.the.precious.blood.(1996).e...   \n",
       "54266  9408707                          battlebots.(2015).eng.1cd   \n",
       "...        ...                                                ...   \n",
       "67460  9458807    kevin.can.wait.s01.e13.ring.worm.(2017).eng.1cd   \n",
       "15296  9244890            bia.s01.e29.episode.1.29.(2019).eng.1cd   \n",
       "40242  9345965  heroes.s02.e11.chapter.eleven.powerless.(2007)...   \n",
       "56391  9417351  hot.in.cleveland.s05.e09.bad.george.clooney.(2...   \n",
       "67859  9460606  silk.stalkings.s04.e18.i.know.what.scares.you....   \n",
       "\n",
       "                                                 content  \n",
       "17262  watch any video online with opensubtitlesfree ...  \n",
       "7294   oh i know that its getting late    but i dont ...  \n",
       "47707  itiming and subtitles by the uncontrollable lo...  \n",
       "29914  ethereal music  apiopensubtitlesorg is depreca...  \n",
       "54266  chris oh nonot the minibots  yelling oh you le...  \n",
       "...                                                  ...  \n",
       "67460  script infotitle default filescripttype vwraps...  \n",
       "15296  where did that come fromi dont know  its a tap...  \n",
       "40242  ipreviously oni heroes  tell me where i can fi...  \n",
       "56391  i hot in clevelandi is recorded  in frontof a ...  \n",
       "67859  apiopensubtitlesorg is deprecated pleaseimplem...  \n",
       "\n",
       "[24749 rows x 3 columns]"
      ]
     },
     "execution_count": 22,
     "metadata": {},
     "output_type": "execute_result"
    }
   ],
   "source": [
    "df"
   ]
  },
  {
   "cell_type": "code",
   "execution_count": 23,
   "id": "a972733c",
   "metadata": {},
   "outputs": [
    {
     "name": "stderr",
     "output_type": "stream",
     "text": [
      "100%|██████████| 24749/24749 [00:14<00:00, 1753.66it/s]\n"
     ]
    }
   ],
   "source": [
    "chunk_size  = 500 \n",
    "overlap =100\n",
    "\n",
    "def chunk_text(text, chunk_size,overlap):\n",
    "    chunks = []\n",
    "    start =0\n",
    "    while start < len(text):\n",
    "        chunk = text[start:start + chunk_size]\n",
    "        chunks.append(chunk.lower())\n",
    "        start+=chunk_size -overlap\n",
    "    return chunks\n",
    "\n",
    "df['chunks'] =df['content'].progress_apply(lambda x: chunk_text(x,chunk_size,overlap))"
   ]
  },
  {
   "cell_type": "code",
   "execution_count": 24,
   "id": "ce025954",
   "metadata": {},
   "outputs": [
    {
     "data": {
      "text/html": [
       "<div>\n",
       "<style scoped>\n",
       "    .dataframe tbody tr th:only-of-type {\n",
       "        vertical-align: middle;\n",
       "    }\n",
       "\n",
       "    .dataframe tbody tr th {\n",
       "        vertical-align: top;\n",
       "    }\n",
       "\n",
       "    .dataframe thead th {\n",
       "        text-align: right;\n",
       "    }\n",
       "</style>\n",
       "<table border=\"1\" class=\"dataframe\">\n",
       "  <thead>\n",
       "    <tr style=\"text-align: right;\">\n",
       "      <th></th>\n",
       "      <th>num</th>\n",
       "      <th>name</th>\n",
       "      <th>content</th>\n",
       "      <th>chunks</th>\n",
       "    </tr>\n",
       "  </thead>\n",
       "  <tbody>\n",
       "    <tr>\n",
       "      <th>17262</th>\n",
       "      <td>9251120</td>\n",
       "      <td>maybe.this.time.(2014).eng.1cd</td>\n",
       "      <td>watch any video online with opensubtitlesfree ...</td>\n",
       "      <td>[watch any video online with opensubtitlesfree...</td>\n",
       "    </tr>\n",
       "    <tr>\n",
       "      <th>7294</th>\n",
       "      <td>9211589</td>\n",
       "      <td>down.the.shore.s01.e10.and.justice.for.all.(19...</td>\n",
       "      <td>oh i know that its getting late    but i dont ...</td>\n",
       "      <td>[oh i know that its getting late    but i dont...</td>\n",
       "    </tr>\n",
       "    <tr>\n",
       "      <th>47707</th>\n",
       "      <td>9380845</td>\n",
       "      <td>uncontrollably.fond.s01.e07.heartache.(2016).e...</td>\n",
       "      <td>itiming and subtitles by the uncontrollable lo...</td>\n",
       "      <td>[itiming and subtitles by the uncontrollable l...</td>\n",
       "    </tr>\n",
       "    <tr>\n",
       "      <th>29914</th>\n",
       "      <td>9301436</td>\n",
       "      <td>screen.two.s13.e04.the.precious.blood.(1996).e...</td>\n",
       "      <td>ethereal music  apiopensubtitlesorg is depreca...</td>\n",
       "      <td>[ethereal music  apiopensubtitlesorg is deprec...</td>\n",
       "    </tr>\n",
       "    <tr>\n",
       "      <th>54266</th>\n",
       "      <td>9408707</td>\n",
       "      <td>battlebots.(2015).eng.1cd</td>\n",
       "      <td>chris oh nonot the minibots  yelling oh you le...</td>\n",
       "      <td>[chris oh nonot the minibots  yelling oh you l...</td>\n",
       "    </tr>\n",
       "  </tbody>\n",
       "</table>\n",
       "</div>"
      ],
      "text/plain": [
       "           num                                               name  \\\n",
       "17262  9251120                     maybe.this.time.(2014).eng.1cd   \n",
       "7294   9211589  down.the.shore.s01.e10.and.justice.for.all.(19...   \n",
       "47707  9380845  uncontrollably.fond.s01.e07.heartache.(2016).e...   \n",
       "29914  9301436  screen.two.s13.e04.the.precious.blood.(1996).e...   \n",
       "54266  9408707                          battlebots.(2015).eng.1cd   \n",
       "\n",
       "                                                 content  \\\n",
       "17262  watch any video online with opensubtitlesfree ...   \n",
       "7294   oh i know that its getting late    but i dont ...   \n",
       "47707  itiming and subtitles by the uncontrollable lo...   \n",
       "29914  ethereal music  apiopensubtitlesorg is depreca...   \n",
       "54266  chris oh nonot the minibots  yelling oh you le...   \n",
       "\n",
       "                                                  chunks  \n",
       "17262  [watch any video online with opensubtitlesfree...  \n",
       "7294   [oh i know that its getting late    but i dont...  \n",
       "47707  [itiming and subtitles by the uncontrollable l...  \n",
       "29914  [ethereal music  apiopensubtitlesorg is deprec...  \n",
       "54266  [chris oh nonot the minibots  yelling oh you l...  "
      ]
     },
     "execution_count": 24,
     "metadata": {},
     "output_type": "execute_result"
    }
   ],
   "source": [
    "df.head()"
   ]
  },
  {
   "cell_type": "code",
   "execution_count": 25,
   "id": "b3988e6c",
   "metadata": {},
   "outputs": [],
   "source": [
    "from sentence_transformers import SentenceTransformer, util\n",
    "from chromadb.utils import embedding_functions\n",
    "import chromadb"
   ]
  },
  {
   "cell_type": "code",
   "execution_count": 26,
   "id": "4e9b0983",
   "metadata": {},
   "outputs": [],
   "source": [
    "df1 = df.sample(frac=0.5, random_state=42)"
   ]
  },
  {
   "cell_type": "code",
   "execution_count": 27,
   "id": "ff54832c",
   "metadata": {},
   "outputs": [
    {
     "data": {
      "application/vnd.jupyter.widget-view+json": {
       "model_id": "0ebbc97f6ce548d4837435c311c9f138",
       "version_major": 2,
       "version_minor": 0
      },
      "text/plain": [
       "README.md:   0%|          | 0.00/10.5k [00:00<?, ?B/s]"
      ]
     },
     "metadata": {},
     "output_type": "display_data"
    },
    {
     "ename": "TypeError",
     "evalue": "'Series' object is not callable",
     "output_type": "error",
     "traceback": [
      "\u001b[1;31m---------------------------------------------------------------------------\u001b[0m",
      "\u001b[1;31mTypeError\u001b[0m                                 Traceback (most recent call last)",
      "Cell \u001b[1;32mIn[27], line 3\u001b[0m\n\u001b[0;32m      1\u001b[0m model_name \u001b[38;5;241m=\u001b[39m \u001b[38;5;124m'\u001b[39m\u001b[38;5;124mall-MiniLM-L6-v2\u001b[39m\u001b[38;5;124m'\u001b[39m\n\u001b[0;32m      2\u001b[0m model \u001b[38;5;241m=\u001b[39m SentenceTransformer(model_name, device\u001b[38;5;241m=\u001b[39m\u001b[38;5;124m'\u001b[39m\u001b[38;5;124mcpu\u001b[39m\u001b[38;5;124m'\u001b[39m)\n\u001b[1;32m----> 3\u001b[0m df1[\u001b[38;5;124m'\u001b[39m\u001b[38;5;124mencoding_data\u001b[39m\u001b[38;5;124m'\u001b[39m] \u001b[38;5;241m=\u001b[39m \u001b[43mdf1\u001b[49m\u001b[38;5;241;43m.\u001b[39;49m\u001b[43mchunks\u001b[49m\u001b[43m(\u001b[49m\u001b[43mmodel\u001b[49m\u001b[38;5;241;43m.\u001b[39;49m\u001b[43mencode\u001b[49m\u001b[43m)\u001b[49m\n",
      "\u001b[1;31mTypeError\u001b[0m: 'Series' object is not callable"
     ]
    }
   ],
   "source": [
    "model_name = 'all-MiniLM-L6-v2'\n",
    "model = SentenceTransformer(model_name, device='cpu')\n",
    "df1['encoding_data'] = df1.chunks(model.encode)"
   ]
  },
  {
   "cell_type": "code",
   "execution_count": null,
   "id": "fabf9ddd",
   "metadata": {},
   "outputs": [],
   "source": [
    "client = chromadb.PersistentClient(path=\"searchengine_database\")\n",
    "collection = client.get_or_create_collection(name=\"search_engine\", metadata={\"hnsw:space\": \"cosine\"})\n",
    "\n",
    "def store_encoder_db(df):\n",
    "    for i in range(df.shape[0]):\n",
    "        embedding_list = df['encoding_data'].iloc[i].tolist()\n",
    "        collection.add(\n",
    "            documents=[df['name'].iloc[i]],\n",
    "            embeddings=[embedding_list],  \n",
    "            ids=[str(df['num'].iloc[i])]\n",
    "        )\n",
    "\n",
    "store_encoder_db(df)"
   ]
  }
 ],
 "metadata": {
  "kernelspec": {
   "display_name": "Python 3",
   "language": "python",
   "name": "python3"
  },
  "language_info": {
   "codemirror_mode": {
    "name": "ipython",
    "version": 3
   },
   "file_extension": ".py",
   "mimetype": "text/x-python",
   "name": "python",
   "nbconvert_exporter": "python",
   "pygments_lexer": "ipython3",
   "version": "3.10.0"
  }
 },
 "nbformat": 4,
 "nbformat_minor": 5
}
